{
 "cells": [
  {
   "cell_type": "code",
   "execution_count": 1,
   "id": "b3c5bee3",
   "metadata": {},
   "outputs": [],
   "source": [
    "import pandas as pd\n",
    "import numpy as np\n",
    "import matplotlib.pyplot as plt\n",
    "import seaborn as sns"
   ]
  },
  {
   "cell_type": "code",
   "execution_count": 3,
   "id": "ee2b3240",
   "metadata": {},
   "outputs": [],
   "source": [
    "data = pd.read_csv(r\"C:\\Users\\vedan\\Downloads\\Retail Analysis Project  Elevate_Labs_Internship\\Supermart Grocery Sales - Retail Analytics Dataset.csv\")\n",
    "\n"
   ]
  },
  {
   "cell_type": "code",
   "execution_count": 4,
   "id": "6740dbce",
   "metadata": {},
   "outputs": [
    {
     "data": {
      "text/html": [
       "<div>\n",
       "<style scoped>\n",
       "    .dataframe tbody tr th:only-of-type {\n",
       "        vertical-align: middle;\n",
       "    }\n",
       "\n",
       "    .dataframe tbody tr th {\n",
       "        vertical-align: top;\n",
       "    }\n",
       "\n",
       "    .dataframe thead th {\n",
       "        text-align: right;\n",
       "    }\n",
       "</style>\n",
       "<table border=\"1\" class=\"dataframe\">\n",
       "  <thead>\n",
       "    <tr style=\"text-align: right;\">\n",
       "      <th></th>\n",
       "      <th>Order ID</th>\n",
       "      <th>Customer Name</th>\n",
       "      <th>Category</th>\n",
       "      <th>Sub Category</th>\n",
       "      <th>City</th>\n",
       "      <th>Order Date</th>\n",
       "      <th>Region</th>\n",
       "      <th>Sales</th>\n",
       "      <th>Discount</th>\n",
       "      <th>Profit</th>\n",
       "      <th>State</th>\n",
       "    </tr>\n",
       "  </thead>\n",
       "  <tbody>\n",
       "    <tr>\n",
       "      <th>0</th>\n",
       "      <td>OD1</td>\n",
       "      <td>Harish</td>\n",
       "      <td>Oil &amp; Masala</td>\n",
       "      <td>Masalas</td>\n",
       "      <td>Vellore</td>\n",
       "      <td>11-08-2017</td>\n",
       "      <td>North</td>\n",
       "      <td>1254</td>\n",
       "      <td>0.12</td>\n",
       "      <td>401.28</td>\n",
       "      <td>Tamil Nadu</td>\n",
       "    </tr>\n",
       "    <tr>\n",
       "      <th>1</th>\n",
       "      <td>OD2</td>\n",
       "      <td>Sudha</td>\n",
       "      <td>Beverages</td>\n",
       "      <td>Health Drinks</td>\n",
       "      <td>Krishnagiri</td>\n",
       "      <td>11-08-2017</td>\n",
       "      <td>South</td>\n",
       "      <td>749</td>\n",
       "      <td>0.18</td>\n",
       "      <td>149.80</td>\n",
       "      <td>Tamil Nadu</td>\n",
       "    </tr>\n",
       "    <tr>\n",
       "      <th>2</th>\n",
       "      <td>OD3</td>\n",
       "      <td>Hussain</td>\n",
       "      <td>Food Grains</td>\n",
       "      <td>Atta &amp; Flour</td>\n",
       "      <td>Perambalur</td>\n",
       "      <td>06-12-2017</td>\n",
       "      <td>West</td>\n",
       "      <td>2360</td>\n",
       "      <td>0.21</td>\n",
       "      <td>165.20</td>\n",
       "      <td>Tamil Nadu</td>\n",
       "    </tr>\n",
       "    <tr>\n",
       "      <th>3</th>\n",
       "      <td>OD4</td>\n",
       "      <td>Jackson</td>\n",
       "      <td>Fruits &amp; Veggies</td>\n",
       "      <td>Fresh Vegetables</td>\n",
       "      <td>Dharmapuri</td>\n",
       "      <td>10-11-2016</td>\n",
       "      <td>South</td>\n",
       "      <td>896</td>\n",
       "      <td>0.25</td>\n",
       "      <td>89.60</td>\n",
       "      <td>Tamil Nadu</td>\n",
       "    </tr>\n",
       "    <tr>\n",
       "      <th>4</th>\n",
       "      <td>OD5</td>\n",
       "      <td>Ridhesh</td>\n",
       "      <td>Food Grains</td>\n",
       "      <td>Organic Staples</td>\n",
       "      <td>Ooty</td>\n",
       "      <td>10-11-2016</td>\n",
       "      <td>South</td>\n",
       "      <td>2355</td>\n",
       "      <td>0.26</td>\n",
       "      <td>918.45</td>\n",
       "      <td>Tamil Nadu</td>\n",
       "    </tr>\n",
       "  </tbody>\n",
       "</table>\n",
       "</div>"
      ],
      "text/plain": [
       "  Order ID Customer Name          Category      Sub Category         City  \\\n",
       "0      OD1        Harish      Oil & Masala           Masalas      Vellore   \n",
       "1      OD2         Sudha         Beverages     Health Drinks  Krishnagiri   \n",
       "2      OD3       Hussain       Food Grains      Atta & Flour   Perambalur   \n",
       "3      OD4       Jackson  Fruits & Veggies  Fresh Vegetables   Dharmapuri   \n",
       "4      OD5       Ridhesh       Food Grains   Organic Staples         Ooty   \n",
       "\n",
       "   Order Date Region  Sales  Discount  Profit       State  \n",
       "0  11-08-2017  North   1254      0.12  401.28  Tamil Nadu  \n",
       "1  11-08-2017  South    749      0.18  149.80  Tamil Nadu  \n",
       "2  06-12-2017   West   2360      0.21  165.20  Tamil Nadu  \n",
       "3  10-11-2016  South    896      0.25   89.60  Tamil Nadu  \n",
       "4  10-11-2016  South   2355      0.26  918.45  Tamil Nadu  "
      ]
     },
     "execution_count": 4,
     "metadata": {},
     "output_type": "execute_result"
    }
   ],
   "source": [
    "data.head()"
   ]
  },
  {
   "cell_type": "code",
   "execution_count": 5,
   "id": "190c1c42",
   "metadata": {},
   "outputs": [
    {
     "data": {
      "text/html": [
       "<div>\n",
       "<style scoped>\n",
       "    .dataframe tbody tr th:only-of-type {\n",
       "        vertical-align: middle;\n",
       "    }\n",
       "\n",
       "    .dataframe tbody tr th {\n",
       "        vertical-align: top;\n",
       "    }\n",
       "\n",
       "    .dataframe thead th {\n",
       "        text-align: right;\n",
       "    }\n",
       "</style>\n",
       "<table border=\"1\" class=\"dataframe\">\n",
       "  <thead>\n",
       "    <tr style=\"text-align: right;\">\n",
       "      <th></th>\n",
       "      <th>Sales</th>\n",
       "      <th>Discount</th>\n",
       "      <th>Profit</th>\n",
       "    </tr>\n",
       "  </thead>\n",
       "  <tbody>\n",
       "    <tr>\n",
       "      <th>count</th>\n",
       "      <td>9994.000000</td>\n",
       "      <td>9994.000000</td>\n",
       "      <td>9994.000000</td>\n",
       "    </tr>\n",
       "    <tr>\n",
       "      <th>mean</th>\n",
       "      <td>1496.596158</td>\n",
       "      <td>0.226817</td>\n",
       "      <td>374.937082</td>\n",
       "    </tr>\n",
       "    <tr>\n",
       "      <th>std</th>\n",
       "      <td>577.559036</td>\n",
       "      <td>0.074636</td>\n",
       "      <td>239.932881</td>\n",
       "    </tr>\n",
       "    <tr>\n",
       "      <th>min</th>\n",
       "      <td>500.000000</td>\n",
       "      <td>0.100000</td>\n",
       "      <td>25.250000</td>\n",
       "    </tr>\n",
       "    <tr>\n",
       "      <th>25%</th>\n",
       "      <td>1000.000000</td>\n",
       "      <td>0.160000</td>\n",
       "      <td>180.022500</td>\n",
       "    </tr>\n",
       "    <tr>\n",
       "      <th>50%</th>\n",
       "      <td>1498.000000</td>\n",
       "      <td>0.230000</td>\n",
       "      <td>320.780000</td>\n",
       "    </tr>\n",
       "    <tr>\n",
       "      <th>75%</th>\n",
       "      <td>1994.750000</td>\n",
       "      <td>0.290000</td>\n",
       "      <td>525.627500</td>\n",
       "    </tr>\n",
       "    <tr>\n",
       "      <th>max</th>\n",
       "      <td>2500.000000</td>\n",
       "      <td>0.350000</td>\n",
       "      <td>1120.950000</td>\n",
       "    </tr>\n",
       "  </tbody>\n",
       "</table>\n",
       "</div>"
      ],
      "text/plain": [
       "             Sales     Discount       Profit\n",
       "count  9994.000000  9994.000000  9994.000000\n",
       "mean   1496.596158     0.226817   374.937082\n",
       "std     577.559036     0.074636   239.932881\n",
       "min     500.000000     0.100000    25.250000\n",
       "25%    1000.000000     0.160000   180.022500\n",
       "50%    1498.000000     0.230000   320.780000\n",
       "75%    1994.750000     0.290000   525.627500\n",
       "max    2500.000000     0.350000  1120.950000"
      ]
     },
     "execution_count": 5,
     "metadata": {},
     "output_type": "execute_result"
    }
   ],
   "source": [
    "data.describe()"
   ]
  },
  {
   "cell_type": "code",
   "execution_count": 6,
   "id": "28f1aa9e",
   "metadata": {},
   "outputs": [
    {
     "name": "stdout",
     "output_type": "stream",
     "text": [
      "<class 'pandas.core.frame.DataFrame'>\n",
      "RangeIndex: 9994 entries, 0 to 9993\n",
      "Data columns (total 11 columns):\n",
      " #   Column         Non-Null Count  Dtype  \n",
      "---  ------         --------------  -----  \n",
      " 0   Order ID       9994 non-null   object \n",
      " 1   Customer Name  9994 non-null   object \n",
      " 2   Category       9994 non-null   object \n",
      " 3   Sub Category   9994 non-null   object \n",
      " 4   City           9994 non-null   object \n",
      " 5   Order Date     9994 non-null   object \n",
      " 6   Region         9994 non-null   object \n",
      " 7   Sales          9994 non-null   int64  \n",
      " 8   Discount       9994 non-null   float64\n",
      " 9   Profit         9994 non-null   float64\n",
      " 10  State          9994 non-null   object \n",
      "dtypes: float64(2), int64(1), object(8)\n",
      "memory usage: 859.0+ KB\n"
     ]
    }
   ],
   "source": [
    "data.info()"
   ]
  },
  {
   "cell_type": "code",
   "execution_count": 7,
   "id": "9307577f",
   "metadata": {},
   "outputs": [
    {
     "data": {
      "text/plain": [
       "Order ID         0\n",
       "Customer Name    0\n",
       "Category         0\n",
       "Sub Category     0\n",
       "City             0\n",
       "Order Date       0\n",
       "Region           0\n",
       "Sales            0\n",
       "Discount         0\n",
       "Profit           0\n",
       "State            0\n",
       "dtype: int64"
      ]
     },
     "execution_count": 7,
     "metadata": {},
     "output_type": "execute_result"
    }
   ],
   "source": [
    "#Checking ffor null values\n",
    "data.isnull().sum()"
   ]
  },
  {
   "cell_type": "markdown",
   "id": "c069705a",
   "metadata": {},
   "source": [
    "#There are no null values so we move ahead.\n"
   ]
  },
  {
   "cell_type": "code",
   "execution_count": 9,
   "id": "c98ea007",
   "metadata": {},
   "outputs": [],
   "source": [
    "data['Order Date']=pd.to_datetime(data['Order Date'],errors='coerce')"
   ]
  },
  {
   "cell_type": "markdown",
   "id": "51f5f671",
   "metadata": {},
   "source": [
    "Simulating Inventory Days\n",
    "we estimate it as:\n",
    "Inventory Days = Average Units in Inventory / Average Daily Sales\n",
    "But first we need Average Daily Sales\n",
    "Average Daily Sales = Total Sales / Number of Days"
   ]
  },
  {
   "cell_type": "code",
   "execution_count": 17,
   "id": "48a3677d",
   "metadata": {},
   "outputs": [],
   "source": [
    "#Getting the date range for the data\n",
    "date_range=pd.date_range(start=data['Order Date'].min(),end=data['Order Date'].max(),freq='D')"
   ]
  },
  {
   "cell_type": "code",
   "execution_count": 16,
   "id": "edf4c7d9",
   "metadata": {},
   "outputs": [],
   "source": [
    "#total sales in the dataset\n",
    "total_sales=data['Sales'].sum()"
   ]
  },
  {
   "cell_type": "code",
   "execution_count": 21,
   "id": "acff26cc",
   "metadata": {},
   "outputs": [
    {
     "name": "stdout",
     "output_type": "stream",
     "text": [
      "Average Daily Sales: 10394.01\n"
     ]
    }
   ],
   "source": [
    "# Calculating Average Daily Sales\n",
    "average_daily_sales= total_sales/len(date_range)\n",
    "print(f\"Average Daily Sales: {average_daily_sales:.2f}\")"
   ]
  },
  {
   "cell_type": "markdown",
   "id": "3331ccf4",
   "metadata": {},
   "source": [
    "Now back to Simulating Inventory Days"
   ]
  },
  {
   "cell_type": "markdown",
   "id": "33ec4ad6",
   "metadata": {},
   "source": [
    "Average units by Inventory\n"
   ]
  },
  {
   "cell_type": "code",
   "execution_count": null,
   "id": "805f17c0",
   "metadata": {},
   "outputs": [],
   "source": [
    "#Simulate estimated units sold (based on avg price)\n",
    "data['Estimated Units']=data['Sales']/20 #assuming average price of 20 per unit"
   ]
  },
  {
   "cell_type": "code",
   "execution_count": 26,
   "id": "a518329e",
   "metadata": {},
   "outputs": [],
   "source": [
    "#Group by Sub-Category and aggregate\n",
    "summary = data.groupby('Sub Category').agg({\n",
    "    'Estimated Units': 'sum',\n",
    "    'Sales': 'sum',\n",
    "    'Profit': 'sum'\n",
    "})"
   ]
  },
  {
   "cell_type": "code",
   "execution_count": null,
   "id": "2b1d7393",
   "metadata": {},
   "outputs": [],
   "source": [
    "#Calculate Inventory Days (based on total units and avg daily sales)\n",
    "summary['Inventory Days']=summary['Estimated Units']/average_daily_sales"
   ]
  },
  {
   "cell_type": "code",
   "execution_count": 28,
   "id": "433fe809",
   "metadata": {},
   "outputs": [],
   "source": [
    "#Calculate Profit Margin %\n",
    "summary['Profit Margin']=(summary['Profit']/summary['Sales'])*100"
   ]
  },
  {
   "cell_type": "code",
   "execution_count": 29,
   "id": "12ff93ac",
   "metadata": {},
   "outputs": [
    {
     "data": {
      "text/html": [
       "<div>\n",
       "<style scoped>\n",
       "    .dataframe tbody tr th:only-of-type {\n",
       "        vertical-align: middle;\n",
       "    }\n",
       "\n",
       "    .dataframe tbody tr th {\n",
       "        vertical-align: top;\n",
       "    }\n",
       "\n",
       "    .dataframe thead th {\n",
       "        text-align: right;\n",
       "    }\n",
       "</style>\n",
       "<table border=\"1\" class=\"dataframe\">\n",
       "  <thead>\n",
       "    <tr style=\"text-align: right;\">\n",
       "      <th></th>\n",
       "      <th>Estimated Units</th>\n",
       "      <th>Sales</th>\n",
       "      <th>Profit</th>\n",
       "      <th>Inventory Days</th>\n",
       "      <th>Profit Margin</th>\n",
       "    </tr>\n",
       "    <tr>\n",
       "      <th>Sub Category</th>\n",
       "      <th></th>\n",
       "      <th></th>\n",
       "      <th></th>\n",
       "      <th></th>\n",
       "      <th></th>\n",
       "    </tr>\n",
       "  </thead>\n",
       "  <tbody>\n",
       "    <tr>\n",
       "      <th>Atta &amp; Flour</th>\n",
       "      <td>26732.45</td>\n",
       "      <td>534649</td>\n",
       "      <td>127861.10</td>\n",
       "      <td>2.571909</td>\n",
       "      <td>23.914961</td>\n",
       "    </tr>\n",
       "    <tr>\n",
       "      <th>Biscuits</th>\n",
       "      <td>34204.15</td>\n",
       "      <td>684083</td>\n",
       "      <td>169357.62</td>\n",
       "      <td>3.290756</td>\n",
       "      <td>24.756882</td>\n",
       "    </tr>\n",
       "    <tr>\n",
       "      <th>Breads &amp; Buns</th>\n",
       "      <td>37129.30</td>\n",
       "      <td>742586</td>\n",
       "      <td>190764.98</td>\n",
       "      <td>3.572182</td>\n",
       "      <td>25.689278</td>\n",
       "    </tr>\n",
       "    <tr>\n",
       "      <th>Cakes</th>\n",
       "      <td>34280.60</td>\n",
       "      <td>685612</td>\n",
       "      <td>168398.46</td>\n",
       "      <td>3.298111</td>\n",
       "      <td>24.561773</td>\n",
       "    </tr>\n",
       "    <tr>\n",
       "      <th>Chicken</th>\n",
       "      <td>26024.85</td>\n",
       "      <td>520497</td>\n",
       "      <td>124049.89</td>\n",
       "      <td>2.503831</td>\n",
       "      <td>23.832969</td>\n",
       "    </tr>\n",
       "  </tbody>\n",
       "</table>\n",
       "</div>"
      ],
      "text/plain": [
       "               Estimated Units   Sales     Profit  Inventory Days  \\\n",
       "Sub Category                                                        \n",
       "Atta & Flour          26732.45  534649  127861.10        2.571909   \n",
       "Biscuits              34204.15  684083  169357.62        3.290756   \n",
       "Breads & Buns         37129.30  742586  190764.98        3.572182   \n",
       "Cakes                 34280.60  685612  168398.46        3.298111   \n",
       "Chicken               26024.85  520497  124049.89        2.503831   \n",
       "\n",
       "               Profit Margin  \n",
       "Sub Category                  \n",
       "Atta & Flour       23.914961  \n",
       "Biscuits           24.756882  \n",
       "Breads & Buns      25.689278  \n",
       "Cakes              24.561773  \n",
       "Chicken            23.832969  "
      ]
     },
     "execution_count": 29,
     "metadata": {},
     "output_type": "execute_result"
    }
   ],
   "source": [
    "summary.head()"
   ]
  },
  {
   "cell_type": "code",
   "execution_count": null,
   "id": "38550dee",
   "metadata": {},
   "outputs": [],
   "source": [
    "#Cleaning up and sorting the summary table\n",
    "summary=summary[['Estimated Units','Sales','Profit','Inventory Days','Profit Margin']].sort_values('Inventory Days',ascending=False)"
   ]
  },
  {
   "cell_type": "code",
   "execution_count": 32,
   "id": "ceecdd2e",
   "metadata": {},
   "outputs": [],
   "source": [
    "#rounding the values for better readability\n",
    "summary=summary.round(2)"
   ]
  },
  {
   "cell_type": "code",
   "execution_count": 33,
   "id": "9830921c",
   "metadata": {},
   "outputs": [
    {
     "data": {
      "text/html": [
       "<div>\n",
       "<style scoped>\n",
       "    .dataframe tbody tr th:only-of-type {\n",
       "        vertical-align: middle;\n",
       "    }\n",
       "\n",
       "    .dataframe tbody tr th {\n",
       "        vertical-align: top;\n",
       "    }\n",
       "\n",
       "    .dataframe thead th {\n",
       "        text-align: right;\n",
       "    }\n",
       "</style>\n",
       "<table border=\"1\" class=\"dataframe\">\n",
       "  <thead>\n",
       "    <tr style=\"text-align: right;\">\n",
       "      <th></th>\n",
       "      <th>Estimated Units</th>\n",
       "      <th>Sales</th>\n",
       "      <th>Profit</th>\n",
       "      <th>Inventory Days</th>\n",
       "      <th>Profit Margin</th>\n",
       "    </tr>\n",
       "    <tr>\n",
       "      <th>Sub Category</th>\n",
       "      <th></th>\n",
       "      <th></th>\n",
       "      <th></th>\n",
       "      <th></th>\n",
       "      <th></th>\n",
       "    </tr>\n",
       "  </thead>\n",
       "  <tbody>\n",
       "    <tr>\n",
       "      <th>Health Drinks</th>\n",
       "      <td>52571.95</td>\n",
       "      <td>1051439</td>\n",
       "      <td>267469.79</td>\n",
       "      <td>5.06</td>\n",
       "      <td>25.44</td>\n",
       "    </tr>\n",
       "    <tr>\n",
       "      <th>Soft Drinks</th>\n",
       "      <td>51693.70</td>\n",
       "      <td>1033874</td>\n",
       "      <td>258135.97</td>\n",
       "      <td>4.97</td>\n",
       "      <td>24.97</td>\n",
       "    </tr>\n",
       "    <tr>\n",
       "      <th>Cookies</th>\n",
       "      <td>38410.65</td>\n",
       "      <td>768213</td>\n",
       "      <td>190643.70</td>\n",
       "      <td>3.70</td>\n",
       "      <td>24.82</td>\n",
       "    </tr>\n",
       "    <tr>\n",
       "      <th>Breads &amp; Buns</th>\n",
       "      <td>37129.30</td>\n",
       "      <td>742586</td>\n",
       "      <td>190764.98</td>\n",
       "      <td>3.57</td>\n",
       "      <td>25.69</td>\n",
       "    </tr>\n",
       "    <tr>\n",
       "      <th>Noodles</th>\n",
       "      <td>36771.75</td>\n",
       "      <td>735435</td>\n",
       "      <td>193685.81</td>\n",
       "      <td>3.54</td>\n",
       "      <td>26.34</td>\n",
       "    </tr>\n",
       "  </tbody>\n",
       "</table>\n",
       "</div>"
      ],
      "text/plain": [
       "               Estimated Units    Sales     Profit  Inventory Days  \\\n",
       "Sub Category                                                         \n",
       "Health Drinks         52571.95  1051439  267469.79            5.06   \n",
       "Soft Drinks           51693.70  1033874  258135.97            4.97   \n",
       "Cookies               38410.65   768213  190643.70            3.70   \n",
       "Breads & Buns         37129.30   742586  190764.98            3.57   \n",
       "Noodles               36771.75   735435  193685.81            3.54   \n",
       "\n",
       "               Profit Margin  \n",
       "Sub Category                  \n",
       "Health Drinks          25.44  \n",
       "Soft Drinks            24.97  \n",
       "Cookies                24.82  \n",
       "Breads & Buns          25.69  \n",
       "Noodles                26.34  "
      ]
     },
     "execution_count": 33,
     "metadata": {},
     "output_type": "execute_result"
    }
   ],
   "source": [
    "summary.head()"
   ]
  },
  {
   "cell_type": "code",
   "execution_count": null,
   "id": "3f3929d3",
   "metadata": {},
   "outputs": [
    {
     "name": "stdout",
     "output_type": "stream",
     "text": [
      "Correlation:\n",
      "                 Inventory Days  Profit Margin\n",
      "Inventory Days        1.000000       0.042585\n",
      "Profit Margin         0.042585       1.000000\n"
     ]
    }
   ],
   "source": [
    "#Correlation between Inventory Days and Profit Margin in %\n",
    "corr = summary[['Inventory Days', 'Profit Margin']].corr()\n",
    "print(\"Correlation:\\n\", corr)\n"
   ]
  },
  {
   "cell_type": "code",
   "execution_count": 38,
   "id": "da76cc45",
   "metadata": {},
   "outputs": [
    {
     "data": {
      "image/png": "[encoded data removed]",
      "text/plain": [
       "<Figure size 1000x600 with 1 Axes>"
      ]
     },
     "metadata": {},
     "output_type": "display_data"
    }
   ],
   "source": [
    "#Visualizing the correlation using a scatter plot\n",
    "plt.figure(figsize=(10,6))\n",
    "sns.regplot(x='Inventory Days',y='Profit Margin',data=summary,marker='o',color='blue')\n",
    "plt.title('Inventory Days vs Profit Margin in %')\n",
    "plt.xlabel('Inventory Days')\n",
    "plt.ylabel('Profit Margin in %')\n",
    "plt.grid(True)\n",
    "plt.tight_layout()\n",
    "plt.show()"
   ]
  },
  {
   "cell_type": "code",
   "execution_count": null,
   "id": "d2633123",
   "metadata": {},
   "outputs": [],
   "source": []
  }
 ],
 "metadata": {
  "kernelspec": {
   "display_name": "Python 3",
   "language": "python",
   "name": "python3"
  },
  "language_info": {
   "codemirror_mode": {
    "name": "ipython",
    "version": 3
   },
   "file_extension": ".py",
   "mimetype": "text/x-python",
   "name": "python",
   "nbconvert_exporter": "python",
   "pygments_lexer": "ipython3",
   "version": "3.12.5"
  }
 },
 "nbformat": 4,
 "nbformat_minor": 5
}
